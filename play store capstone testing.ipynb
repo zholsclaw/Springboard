{
 "cells": [
  {
   "cell_type": "code",
   "execution_count": 100,
   "id": "dac3345e",
   "metadata": {
    "collapsed": true
   },
   "outputs": [
    {
     "ename": "SyntaxError",
     "evalue": "invalid syntax (Temp/ipykernel_9000/3442338223.py, line 2)",
     "output_type": "error",
     "traceback": [
      "\u001b[1;36m  File \u001b[1;32m\"C:\\Users\\Zach\\AppData\\Local\\Temp/ipykernel_9000/3442338223.py\"\u001b[1;36m, line \u001b[1;32m2\u001b[0m\n\u001b[1;33m    pip install scikit-learn\u001b[0m\n\u001b[1;37m              ^\u001b[0m\n\u001b[1;31mSyntaxError\u001b[0m\u001b[1;31m:\u001b[0m invalid syntax\n"
     ]
    }
   ],
   "source": [
    "#pip install google-play-scraper\n",
    "#pip install scikit-learn"
   ]
  },
  {
   "cell_type": "markdown",
   "id": "0cff8f62",
   "metadata": {},
   "source": [
    "Pokemon Go: 'com.nianticlabs.pokemongo'\n",
    "Garena Free Fire MAX: 'com.dts.freefiremax'"
   ]
  },
  {
   "cell_type": "code",
   "execution_count": 2,
   "id": "b698e765",
   "metadata": {},
   "outputs": [],
   "source": [
    "import time"
   ]
  },
  {
   "cell_type": "code",
   "execution_count": 1,
   "id": "f943fe28",
   "metadata": {},
   "outputs": [],
   "source": [
    "import matplotlib.pyplot as plt\n",
    "import numpy as np\n",
    "import pandas as pd"
   ]
  },
  {
   "cell_type": "code",
   "execution_count": 2,
   "id": "53d618ab",
   "metadata": {},
   "outputs": [],
   "source": [
    "from google_play_scraper import app\n",
    "\n",
    "result = app(\n",
    "    'com.Knight.GrandQuest',\n",
    "    lang='en', # defaults to 'en'\n",
    "    country='us' # defaults to 'us'\n",
    ")"
   ]
  },
  {
   "cell_type": "code",
   "execution_count": 3,
   "id": "4348ab42",
   "metadata": {},
   "outputs": [
    {
     "data": {
      "text/plain": [
       "dict_keys(['title', 'description', 'descriptionHTML', 'summary', 'summaryHTML', 'installs', 'minInstalls', 'score', 'ratings', 'reviews', 'histogram', 'price', 'free', 'currency', 'sale', 'saleTime', 'originalPrice', 'saleText', 'offersIAP', 'inAppProductPrice', 'size', 'androidVersion', 'androidVersionText', 'developer', 'developerId', 'developerEmail', 'developerWebsite', 'developerAddress', 'privacyPolicy', 'developerInternalID', 'genre', 'genreId', 'icon', 'headerImage', 'screenshots', 'video', 'videoImage', 'contentRating', 'contentRatingDescription', 'adSupported', 'containsAds', 'released', 'updated', 'version', 'recentChanges', 'recentChangesHTML', 'comments', 'editorsChoice', 'similarApps', 'moreByDeveloper', 'appId', 'url'])"
      ]
     },
     "execution_count": 3,
     "metadata": {},
     "output_type": "execute_result"
    }
   ],
   "source": [
    "result.keys()"
   ]
  },
  {
   "cell_type": "code",
   "execution_count": 4,
   "id": "9a761911",
   "metadata": {},
   "outputs": [
    {
     "data": {
      "text/plain": [
       "dict_items([('title', 'Magnum Quest'), ('description', 'An Imaginative IDLE RPG. Become a wise and powerful master, an amazing Hands-free adventure for you. Easy to play, Fun to win! \\r\\nStart a great adventure in this visually-stunning 3D RPG strategy game and have fun with players from all around the world.\\r\\n\\r\\nGame Features\\r\\n\\r\\n[Outstanding 3D Graphics] \\r\\nExquisite 3D scenes, detailed character models and cool special effect skills. Get frozen in the BOSSES storm, touch the flames of the dungeon dragons and experience an immersive visual feast.\\r\\n\\r\\n[Summon Legendary Heroes]\\r\\nCollect legendary heroes from six factions: Fortress,Forest, Wild, Shadow, Divine and Abyss. Master factional attributes and counter strategies, build the strongest 5-player team to dominate Armuda continent! \\r\\n\\r\\n[Form Strategic Skills]\\r\\nShield, taunt, leech, freeze, repel, stun...Each hero possesses unique skills. Strategies and skills will let you win unexpected victories, apply wisdom and you will never be bored of this game.\\r\\n\\r\\n[Explore Imaginative Worlds]\\r\\nArmuda continent is a world full of imaginations, lead your heroes to fight in fantasy forests and endless deserts, explore mysterious ruins and frozen snowfields.\\r\\n\\r\\n[Unlock Diverse Stages]\\r\\nAdventurous storyline, Hero trials, Dungeon conquest, Roguelike-battle, Raid enemies, Arenas, Guild bosses and Rich gameplay. All waiting for you to unlock and experience!\\r\\n\\r\\n#Follow us on Facebook to get the latest news and community activities\\r\\nhttps://www.facebook.com/MagnumQuest\\r\\n#Join our official Discord server\\r\\nhttps://discord.gg/6XvhVkw3cm'), ('descriptionHTML', 'An Imaginative IDLE RPG. Become a wise and powerful master, an amazing Hands-free adventure for you. Easy to play, Fun to win! <br>Start a great adventure in this visually-stunning 3D RPG strategy game and have fun with players from all around the world.<br><br>Game Features<br><br>[Outstanding 3D Graphics] <br>Exquisite 3D scenes, detailed character models and cool special effect skills. Get frozen in the BOSSES storm, touch the flames of the dungeon dragons and experience an immersive visual feast.<br><br>[Summon Legendary Heroes]<br>Collect legendary heroes from six factions: Fortress,Forest, Wild, Shadow, Divine and Abyss. Master factional attributes and counter strategies, build the strongest 5-player team to dominate Armuda continent! <br><br>[Form Strategic Skills]<br>Shield, taunt, leech, freeze, repel, stun...Each hero possesses unique skills. Strategies and skills will let you win unexpected victories, apply wisdom and you will never be bored of this game.<br><br>[Explore Imaginative Worlds]<br>Armuda continent is a world full of imaginations, lead your heroes to fight in fantasy forests and endless deserts, explore mysterious ruins and frozen snowfields.<br><br>[Unlock Diverse Stages]<br>Adventurous storyline, Hero trials, Dungeon conquest, Roguelike-battle, Raid enemies, Arenas, Guild bosses and Rich gameplay. All waiting for you to unlock and experience!<br><br>#Follow us on Facebook to get the latest news and community activities<br>https://www.facebook.com/MagnumQuest<br>#Join our official Discord server<br>https://discord.gg/6XvhVkw3cm'), ('summary', 'Defeat your enemies in this 3D visually-stunning RPG strategy game!'), ('summaryHTML', 'Defeat your enemies in this 3D visually-stunning RPG strategy game!'), ('installs', '1,000,000+'), ('minInstalls', 1000000), ('score', 4.5102897), ('ratings', 53470), ('reviews', 10659), ('histogram', [2502, 993, 2668, 7858, 39449]), ('price', 0), ('free', True), ('currency', 'USD'), ('sale', False), ('saleTime', None), ('originalPrice', None), ('saleText', None), ('offersIAP', True), ('inAppProductPrice', '$0.99 - $99.99 per item'), ('size', '82M'), ('androidVersion', '5.0'), ('androidVersionText', '5.0 and up'), ('developer', 'Tuyoo Games'), ('developerId', 'Tuyoo+Games'), ('developerEmail', '2019bran.abel@gmail.com'), ('developerWebsite', 'http://www.magnumquest.com'), ('developerAddress', 'RM 19c LOCKHART CTR 301-307 LOCKHART RD WAN CHAI HK'), ('privacyPolicy', 'http://privacy.tuyooglobal.com/agreement_en.html'), ('developerInternalID', '6959162878786689434'), ('genre', 'Role Playing'), ('genreId', 'GAME_ROLE_PLAYING'), ('icon', 'https://play-lh.googleusercontent.com/-BZkHzQMGkJVDQYhv_ypI-uc4t6kpKB4-bg1bQ_ZWqsldcSa0jJwOGEZP3GMSt4zGQ'), ('headerImage', 'https://play-lh.googleusercontent.com/8JOKOPtXxfsmeZPzy2G9KDWFu3Nwh7_EP6VLoout3cFTo3XcLhc1DQ1WHI96qqpo4Q'), ('screenshots', ['https://play-lh.googleusercontent.com/HeR4XzRIK3a1gEipsbKr5tgTuYFnxTU9cmDdWESWg_pyszhjUU1U0Wr90uPmah7H3Q', 'https://play-lh.googleusercontent.com/28jPtQKIxFcX91XPSeMPQBI0N5uNnHYiWq0u29kcIE5WXSkrulx_kSe2SoJCDqTHOYOW', 'https://play-lh.googleusercontent.com/XTZTUMl6M5kPuDl5YeO9KMCoCuaAzp4MCVyp0vvfnR3aEns8h25K66GE6eunpgBQEQ', 'https://play-lh.googleusercontent.com/aDknwuVeqJjieGs7MekvHILsTX5RwrglCIPnPka9ZWBZH3-G46B4sneOd5hJCd7GMw', 'https://play-lh.googleusercontent.com/rz4tgxlhDd79R5dIlhF6oEUq1KB7D6Bt7fMKYY_acPS8UOGoxQTTTR-K9Z0tcvXCTAU', 'https://play-lh.googleusercontent.com/KUwHhn9v-RFi2I9xcppGW-awQfD59O3wBi-t7MRoy6bvBEhw2oMiqvyH70-n0yC_Gg', 'https://play-lh.googleusercontent.com/quU0E3qNOni6okY4UVMJk_lFXeJXmXwnPDdeoxt7_RZabTbS2PcXuW55Siqo11uySQ', 'https://play-lh.googleusercontent.com/F42pKDblZ27fv6gaW2qkXKdkwUF8gemJew1jLmeYyb3J0G6O65oY1i-UJmmEmzgcsw', 'https://play-lh.googleusercontent.com/mmQVdh1Qii6K9D6x7nQ0OUFkMB8y9o8dF3AljdKaDiLHYqqSZ6XziKt9jQtjWlhs8OPE', 'https://play-lh.googleusercontent.com/dUg7JdarS5wTG5RiulwDsJ-JIBneU_8SoGNjTcUkXnlXF_juJ5OdScHDFTzvH2OLcD0', 'https://play-lh.googleusercontent.com/jpbrSCCyBrnScKZ7TjGsUcJNW46Q_hMqlIWAxJgtVOAHko3_aIIBKE9tXXXcIc6AlsE8', 'https://play-lh.googleusercontent.com/1WSma_xg-RppQaknHRLPFaLUs2TYgvlIIWuccOCV-2UK3OBPj2IpWHW20f9hwnq69H0', 'https://play-lh.googleusercontent.com/h6rvel3m9lGw_0mySR9IRFaA6NSPLFYtYjo-7BGrpVnuteGcqtwQ2hoGmKnzufB8DE7s', 'https://play-lh.googleusercontent.com/_xx7Xarr1AfJY7aj0SttO0T1_XI6y2ZINYbsCX1ykNQqHJAR-vSjQw6f-asE2Qjp8yk', 'https://play-lh.googleusercontent.com/zYqhnK8OpsiErBZFfCTLR_NDETwRaqqGl25A-l63UFRgcE0m9wSrgibX00JCyKZk5A', 'https://play-lh.googleusercontent.com/Aryf4LThFrkkqK8M8FtvShrtIywapgDp8yrgu_-Cf-TMwlGHx6s3DCSLFw8azdw38kc', 'https://play-lh.googleusercontent.com/9tm2DrEluYxM3BtpukSMDWVWaDDDIEZMgJVaYX7hYj7wu_CrejckDwbzx0H-Wlxbc4yM', 'https://play-lh.googleusercontent.com/QjTJ0IuZBv1LPBWy4kAgXlkOlBu6KLXz9PnmlkYnoXdgkmVWn72erEHW1-R5pdKHv5t1', 'https://play-lh.googleusercontent.com/zOFDFTtU3G3QjlhS7WgeFUEoIw8BG0CbYVNBduYoTDRhGGno3ME4lKoT_FjDi2DNqLI', 'https://play-lh.googleusercontent.com/nif-B2cdkpTsCdTjTtsucMxDn3Y5iOE2ps_M-ce0lts84Gsj3ltwR1gDVWFqdsKGBz0', 'https://play-lh.googleusercontent.com/qjwlu-y9fHRqbtzh2QOCf7jBYBWryV8DKDMDZeX7FGyPzp4PUgNH7cMKdnvMAgbs2pVX']), ('video', 'https://www.youtube.com/embed/GQ6fHttkr9g?ps=play&vq=large&rel=0&autohide=1&showinfo=0'), ('videoImage', 'https://play-lh.googleusercontent.com/8JOKOPtXxfsmeZPzy2G9KDWFu3Nwh7_EP6VLoout3cFTo3XcLhc1DQ1WHI96qqpo4Q'), ('contentRating', 'Teen'), ('contentRatingDescription', 'Blood, Suggestive Themes, Violence'), ('adSupported', None), ('containsAds', False), ('released', 'Aug 10, 2021'), ('updated', 1632450078), ('version', '1.9.1.147372'), ('recentChanges', 'v1.9.1.147372'), ('recentChangesHTML', 'v1.9.1.147372'), ('comments', [\"Good game. The ONLY reason for a 2 star is that you will most likely run into problems with the Sacengate Tournament. 1. Attacking a team with only 2 members that you can't beat and they can't beat you is BS. 2. The winner should be who has the most number of troops on the field at the END when the time runs out, not you lose when the time runs out. NEW Players beware of these cheating scum...\", \"It is a neat game so far. But has what I would consider a game breaking bug of if you try to log on with anything short of great wifi, you can't authenticate the user. So you are softlocked at the home screen. So you can't play this mobile game anywhere but at your house if you have good wifi there. Mobile data isn't enough, even 5g.\", \"Just another rip off that's been done 1000 times. You build your team, all fun and games, then comes the pvp... The opposing team has 20k power when you have 50k and because they have one defender of insane level and power you get crushed. Not that I can't do the same, but I refuse to, that's just idiotic. It's just stupid. PvP in games like this is pure garbage, is utterly stupid, and it ruins it. For that, enjoy my delete button. There's a billion other games the same.\", \"Game is fun and has a good base but could do with some adjusting. The PVP especially can be infuriating considering how broken some of the characters are when alone with their damage absorption and (basically all) damage immunity for most of the fight. The animations for abilities should also have the option to be switched off as it causes so much unnecessary delay when doing dailies and fights. Otherwise, I'm having a lot of fun and would be happy to see some adjustments to keep me playing ^^\", 'So far really enjoying magnum quest. I think the overall feel and look of the game is fantastic. Down to the detail of it showing figures of the characters in your party when your going through story mode. I look forward to seeing how the devs respond to player feedback and improve upon the game. As with most Mobile hero collector games I feel a new player should be given a ticket to pick out the first character they want barring the newest one perhaps. I do plan to support the game.', \"interesting. fun. not super time consuming. So far I like MQ quite a lot. the graphics are awesome but still loading times are very fast! there is a lot to do if you want to BUT since MQ being an idle-game you don't have to. There is not that much pressure on you to do stuff now, today or very soon. Most events are available for a very long time. Dailies you can manage in about 15minutes a day, maybe 30 if you take your time or have all content unlocked. keep the good work up!\", \"This is a fun casual game. Awesome styling. Very addictive but definitely a pay wall cooked in. I have put about $15 into this game, now if I don't spend more I cannot progress without waiting for an indeterminate amount of time. Theres requirements for you to level up your heroes. If you don't meet those requirements you don't progress. Either you wait long enough (loot system is random) til you find the right stuff. Or you pay to have a better chance, not guaranteed, to find the right stuff.\", 'The game itself offers a lot of fun, early game. As far as I can tell, the rewards and the progress drops way off once you clear out the \"beginner\" stages of everything. I\\'ve run into problems with not seeing things on my screen that should be there. Like the \"Battle\" button on guild boss pages. All in all, I have high hopes for the game but, I\\'m thinking I\\'ve hit a point where there isnt enough to keep me busy. Because things are locked behind completeing campaign missions.', \"Pretty decent game, simple enough to not get lost in thousands of ascension and upgrade mechanics (like in say Idle Heroes). Still a few bugs here and there but nothing game breaking as far as I've seen. The story is mediocre, doesn't make much sense and has grammatical errors in the text but it's decent enough to peek your interest. You can play decently enough for free, but don't expect to be able to compete with whales any time soon.\", \"Maybe 2 weeks casual play into this game and I've hit a wall (level 14-16, dungeon 171). To this point the trickiness increased but it was fun. Now? It's literally impossible without paying to gain more heroes or credits to upgrade my existing heroes or gain more. Not happy as without that I'm stuck to grinding some dull daily quests waiting for the dribble of daily experience to push a bunch of my team to bulk up the squad. boring\", \"this is pretty much a direct 3d port of AFK Arena (which I have played every day for over 3 years) so honestly there's not much they can get wrong in copying a well-established game. at this point what will decide for me whether or not this is a sustainable game is how inclusive to f2p the devs are. I'm personally not f2p but keeping on f2p players st this point should be a given. so far a good game with refreshing graphics.\", 'Beautiful game, with fun combat and wide variety of characters to use in your party, ish. I decided to write this at level 52. I find that it has 2 glaring issues (IMO). First is the amount of RNG luck you need is very high, which I just don\\'t have. It\\'s not pay to win, but I\\'ll be damned if I know how to get \"good\" characters efficiently. Second is the PvP. All my toons are between lvl 102 and 105, and I wipe against ONE character in mid 120s. 5v1, I have triple combat points and I lose. How.', 'Excellent game, plenty of fun in-game purchases but not necessary to play and enjoy the game. Well rounded, excellent graphics, with different play options to choose from. Game does tend to slow down a bit at higher levels though. Still the best game I have found.', \"I highly recommend not to play this game. If there's ever a definition of a cash grab this game is it. The devs have basically stop carrying about their game and there's been multiple big problems popping up in the game mechanics and scaling of levels where you literally can't progress anymore or get past multiple levels and the devs completely stop fixing anything.\", 'If you have more cash than common sense, this can be a pricey game. Fortunately for the rest of us, FTP actually works with a little patience. You will occasionally run out of things you can do, but there are loads of easily obtained perks to help you level up. It is time intensive if you want to do all that is available each day, only because there are so many good options which are changed before getting too old. Other than being greedy, it is an awesome game with great gameplay and quality.', \"It was a lot of fun, the rates are really good, wayyy better than any other game, which is a pretty good thing, some games make the rates way too low, these are perfect, the gameplay is fun, testing out your characters and teams is pretty interesting, but not too hard to get a hang of quick. It's simple at first, becoming harder once you get later into the game, but I enjoy that it's set up that way. It is a great game and I recommend this to anyone reading for sure.\", \"Amazing game!! Most well balanced free to play game I have ever played. You can be a top player without spending any money. Very good graphics. Most interesting thing is every character's backstory, you will feel like reading a good story book. Loving it !!\", \"Look guys this game is an absolute blast the 1st couple of weeks, But then you hit a massive paywall and your progress stops completely. The only way to proceed is to drop more money on it but then you run the same problem a couple days later. I have not been able to advance any aspect of my game in over 3 weeks. This is a shame because all of my friends and I absolutely loved this game at 1st and we've all run into the same problem. Save your time and money until they make a few changes\", \"Fast paced strategy with decent character variety. Several Battle options keeps you leveling and playing. Very mild PTW. If you're FTP don't sweat it, this game is still a good adventure game and character build game. I've been playing for several hours a day and I'm still progressing as an FTP. Great Game! Thanks Devs!\", \"it's a cool game with unique graphic style and i truly like this...i hope you can add more stuff to do for early player... because at some point you Will stuck and have to wait for login reward so you can upgrade your heroes ( unless you want to pay for the upgrade ). i think this game need to have like animation for the stories ( not just for the prologue ) so it doesn't feel boring...overall it's a good game with a lot of room for improvement\", \"I mean, c'mon... there's a 2x button. It's that kind of game. Better than R:SL, but still really grindy and time-consuming. I was into it, ran out of momentum, came back two days later, realized the idle rewards capped at 14h (gg), and then ran out of time mid-Trial to complete it because even auto fights take a decent amount of time when you need to clear 20 of them to complete an event. I'd just... rather not.\", \"Changed to 1 star. You get to stage 15-12 then it becomes impossible to complete that level unless you pay hundreds of dollars to acend your heros, or you'll have just have to play free for months until the game decides to give you the gold heros you need. This is just like all other F2P games. You invest time into the game, until you get to a point that you can't go any further. Be warned\", 'Good morning. This game is a copy/paste of AFK Arena with better graphics. Very similar game play and it suffers from the same issue as AFK as you will eventually rely only of an handful of characters and use all other as food for them. I would have hoped they would have incorporated more original content and also maybe an approach like Exos Heroes where the different events (which often change on a daily basis) force you to upgrade several heroes (from 1 to 5 starts) to complete. This makes every character important and worth keeping. Anyway, my 2 cents. Cheers!', \"This game is NOT pay to win. You can win and progress with time. You can even go further in dungeons by simply changing your team comp as it can make all the difference. IF you choose to spend money it's usually due to just not wanting to wait for something specific but it doesn't bombard the heck out of you with insane pay walls every 5 seconds like a lot of other gacha games do. I like that.\", \"It's okay, it's just like any other idle game. It's fun for a bit then it grows stale, extremely p2w like most of these games are. The visuals are nice though. If you are into these type of games you will enjoy this. Its a red bubble simulator basically.\", 'Fun for the first couple of weeks. The game sucks you in and is great fun at first but it is short lived. As others have said, their is no real guidance or end goal with this game. Or really a goal in general. You go through the story until you cannot progress any longer due to material restraints and then you just sit and wait for free material. Unless you spend money. You can literally log on every two days for a few minutes or choose to spend money. This is after a couple of weeks of course.', \"Great game. These guys usually make pretty good games. Id give it a 5 star if there wasn't a pay to win aspect of it. THAT BEING SAID, you can still do quite well not paying and still be competitive (as I do). Definitely a game worth playing. And one of the best out there right now.\", \"The game itself is a lot of fun; however it seems like in early levels you have a better chance for good heroes in your summoning, and I'm the later chapters, it's like your chances are slim to none, making you feel the need to buy gems or bundles with cards to keep trying. The rewards the game gives you for chapter completion are god-awful. The gear you get are no where near the rating you'll already be using, and the champions you get for chapters are awful, and I'm on chapter 14.\", 'My 24th game from Google Play. Nice graphics, gameplay. Nice online blog with many gift codes, heroes tier and guides. But... very laggy for my old machine. I have played for 3 days but 50 % of that time I was looking at loading screens. Of course I set up the lowest settings, but nothing helped. My progress in other games would be 2 times better by now. If you have better machine, try this game! :-)', 'Good game BUT...The \"little gifts \" you prepare for completing certain levels, ie 100, SHOULD NOT cost 140 bucks. While you can play for free, the devs are exceptionally money hungry. I\\'m an art lead for a game studio, and even I think the pricing is outrageous. You have a good game, and i have supported you monetarily, however, keep you player base., slow yr roll . Dropping to one star. Spambot in play...enough is enough money grabbing micro transaction, greedy, devs, that don\\'t seem to care', \"Basically AFK arena, but themed as a tabletop miniature game. Better graphics, better drop rates and way more interesting story and character lore. Highly recommend, especially as a f2p player. Arena is, naturally; biased towards the whales, but you can be competitive with a little luck and composition strategy, and everything else in game is easily doable as a f2p. Have yet to experience any of the graphics glitches or slowdown others have mentioned, and I'm playing on a prepaid One+ phone.\", \"Well thought out game so much to do. This Game is possible to play without paying you just need to play smart. I always buy something just to support the developers usually a monthly package, but Like I said you don't need to. Now a special warning to developers You have a great game going dont get greedy. Word will get out and you will be getting paid for all the hard work you have done on this game.\", \"At first was a great game. Dropped several hundred dollars on it. With recent updates it has even locked a big spender like me out of content by increasing the difficulty so drastically even whales can't complete it now. My guess they did this hoping people would spend even more. Just caused me to quit the game.\", \"This game is honestly great! Yes it does all the running around and fighting for you and you're mainly just choosing when to activate ultimate skills. But its exactly what I was expecting. Almost a diablo like in many ways. I started playing on my Galaxy S21 in Dex mode on my monitor and its been a great experience!\", \"This game is a mess, freezes often and lags a lot. Now I can't log in to my account and I binded it with Facebook. That doesn't make any sense. I'm done. Glad I hardly spent any money because it wouldn't have been worth it. In my opinion all of these games are like this now. Instead of fixing the app they constantly add ways to get you to spend. I'm sick and tired of this mess.\", \"The games combat ratings are completely broken. About half the tine, if you match a 30k team against a 5k team, it'll wipe the floor with you. There's no way to accurately guage your strength against an opponent unless you know every single character, skill, and matchup combination by heart. The interface is fantastic, but a pretty UI doesn't make up for trash game design.\", \"The game is fun fo the first while but then gives you quests that you cannot complete with the hunters bounties that I cannot even complete because it requires toons of higher stars than I have. I've seen in the chats that it becomes boring after you reach a certain level because it takes so much longer to level and the daily login is about all you can do to level up.\", \"It's very entertaining, get different characters with actual lore, you don't have to spend money, it does take longer though if you don't. Many different things to do from raiding, dungeons, etc...with idle loot. Check it out would be my suggestion, I've already got a couple friends trying it.\", \"Really fun game with a broad character pool but not so much so that it feels convoluted. Definitely not a pay to play scheme, been playing a few weeks and I have most the characters I feel I need to keep progressing and have reached level 72. The pacing feels great I can make steady progress but without feeling too easy or that I was able to smash through the game until I hit the paywall level where free to play stops being realistic. Nice art style overall what I'd want in this type of game.\", 'This game is an absolute beauty when it comes to art, gameplay and combat, especially the unique charachter design that screams perfection. It has essential strategy elements where you need to actually think and built your roaster to counter the enemy faction team and time abilities. On the other hand it does have pay to progress faster elements just like any popular game in this genre. If you like the game, support the devs or you can have a fun 4-5 weeks which is great for a f2p mobile game.']), ('editorsChoice', False), ('similarApps', ['com.karma.mythwarspuzzles', 'com.playkot.ageofmagic', 'com.ubisoft.might.magic.heroes.fantasy.rpg', 'com.droidhang.ad', 'com.plarium.raidlegends']), ('moreByDeveloper', ['net.solitairec.solitaire', 'com.unity.dhome', 'com.unity.luckydiamond', 'com.panda.unity.blastsaga', 'com.unity.dhmakeover']), ('appId', 'com.Knight.GrandQuest'), ('url', 'https://play.google.com/store/apps/details?id=com.Knight.GrandQuest&hl=en&gl=us')])"
      ]
     },
     "execution_count": 4,
     "metadata": {},
     "output_type": "execute_result"
    }
   ],
   "source": [
    "result.items()"
   ]
  },
  {
   "cell_type": "code",
   "execution_count": 5,
   "id": "90c3acb1",
   "metadata": {},
   "outputs": [],
   "source": [
    "import google_play_scraper\n",
    "from google_play_scraper import Sort, reviews, reviews_all"
   ]
  },
  {
   "cell_type": "markdown",
   "id": "890ff164",
   "metadata": {},
   "source": [
    "10000 entries takes about 25 seconds."
   ]
  },
  {
   "cell_type": "code",
   "execution_count": 6,
   "id": "e84ccc5c",
   "metadata": {},
   "outputs": [],
   "source": [
    "result, _ = reviews(\n",
    "    'com.plarium.raidlegends',\n",
    "    lang='en', # defaults to 'en'\n",
    "    country='us', # defaults to 'us'\n",
    "    sort=Sort.MOST_RELEVANT, # defaults to Sort.MOST_RELEVANT, NEWEST\n",
    "    count=10000, # defaults to 100\n",
    "    filter_score_with=None # defaults to None(means all score)\n",
    ")"
   ]
  },
  {
   "cell_type": "code",
   "execution_count": 88,
   "id": "34a89ada",
   "metadata": {
    "scrolled": true
   },
   "outputs": [
    {
     "data": {
      "text/plain": [
       "{'reviewId': 'gp:AOqpTOHMBHFdZtnKG_9bSXjvRUXkqf0c0Cq1di0bIwatEhRn6IDQZM9LBbVM3BMK_7Foaxdo6fufycDvK84iGXs',\n",
       " 'userName': 'Caitlyn Arnold',\n",
       " 'userImage': 'https://play-lh.googleusercontent.com/a/AATXAJxhwTKTqnK8hIOs98mQeZEcJUa6bVrz0Vdy-bT4=mo',\n",
       " 'content': \"The game is good and the graphics are great. But to be honest it'll probably take 15yrs to even get close to finishing. The amount of time it takes to upgrade each player and there artifacts is horrendous. Time and effort is not the problem you can spend 6 hours a day on this game for a whole week upgrading on one artifact to level 16. It impossible, seriously unless you're spending over $1000 a week you will not any progression.\",\n",
       " 'score': 1,\n",
       " 'thumbsUpCount': 42,\n",
       " 'reviewCreatedVersion': '4.70.0',\n",
       " 'at': datetime.datetime(2021, 10, 5, 10, 17, 6),\n",
       " 'replyContent': None,\n",
       " 'repliedAt': None}"
      ]
     },
     "execution_count": 88,
     "metadata": {},
     "output_type": "execute_result"
    }
   ],
   "source": [
    "result[0]"
   ]
  },
  {
   "cell_type": "code",
   "execution_count": 7,
   "id": "2217547f",
   "metadata": {},
   "outputs": [
    {
     "data": {
      "text/plain": [
       "datetime.timedelta(days=-590, seconds=72847)"
      ]
     },
     "execution_count": 7,
     "metadata": {},
     "output_type": "execute_result"
    }
   ],
   "source": [
    "result[-1]['at'] - result[0]['at']"
   ]
  },
  {
   "cell_type": "code",
   "execution_count": 8,
   "id": "87ae9b1a",
   "metadata": {
    "scrolled": false
   },
   "outputs": [
    {
     "name": "stdout",
     "output_type": "stream",
     "text": [
      "Help on function reviews in module google_play_scraper.features.reviews:\n",
      "\n",
      "reviews(app_id: str, lang: str = 'en', country: str = 'us', sort: google_play_scraper.constants.google_play.Sort = <Sort.NEWEST: 2>, count: int = 100, filter_score_with: int = None, continuation_token: google_play_scraper.features.reviews._ContinuationToken = None) -> Tuple[List[dict], google_play_scraper.features.reviews._ContinuationToken]\n",
      "\n"
     ]
    }
   ],
   "source": [
    "help(reviews)"
   ]
  },
  {
   "cell_type": "code",
   "execution_count": 9,
   "id": "ad1bafca",
   "metadata": {},
   "outputs": [],
   "source": [
    "df = pd.DataFrame([x for x in result])"
   ]
  },
  {
   "cell_type": "code",
   "execution_count": 92,
   "id": "7a1ba99e",
   "metadata": {
    "scrolled": true
   },
   "outputs": [
    {
     "data": {
      "text/html": [
       "<div>\n",
       "<style scoped>\n",
       "    .dataframe tbody tr th:only-of-type {\n",
       "        vertical-align: middle;\n",
       "    }\n",
       "\n",
       "    .dataframe tbody tr th {\n",
       "        vertical-align: top;\n",
       "    }\n",
       "\n",
       "    .dataframe thead th {\n",
       "        text-align: right;\n",
       "    }\n",
       "</style>\n",
       "<table border=\"1\" class=\"dataframe\">\n",
       "  <thead>\n",
       "    <tr style=\"text-align: right;\">\n",
       "      <th></th>\n",
       "      <th>reviewId</th>\n",
       "      <th>userName</th>\n",
       "      <th>userImage</th>\n",
       "      <th>content</th>\n",
       "      <th>score</th>\n",
       "      <th>thumbsUpCount</th>\n",
       "      <th>reviewCreatedVersion</th>\n",
       "      <th>at</th>\n",
       "      <th>replyContent</th>\n",
       "      <th>repliedAt</th>\n",
       "    </tr>\n",
       "  </thead>\n",
       "  <tbody>\n",
       "    <tr>\n",
       "      <th>0</th>\n",
       "      <td>gp:AOqpTOHMBHFdZtnKG_9bSXjvRUXkqf0c0Cq1di0bIwa...</td>\n",
       "      <td>Caitlyn Arnold</td>\n",
       "      <td>https://play-lh.googleusercontent.com/a/AATXAJ...</td>\n",
       "      <td>The game is good and the graphics are great. B...</td>\n",
       "      <td>1</td>\n",
       "      <td>42</td>\n",
       "      <td>4.70.0</td>\n",
       "      <td>2021-10-05 10:17:06</td>\n",
       "      <td>None</td>\n",
       "      <td>NaT</td>\n",
       "    </tr>\n",
       "    <tr>\n",
       "      <th>1</th>\n",
       "      <td>gp:AOqpTOFDG3mv7_ylqYDQfp29i6qVblWkFMf01lwWFaI...</td>\n",
       "      <td>A S</td>\n",
       "      <td>https://play-lh.googleusercontent.com/a/AATXAJ...</td>\n",
       "      <td>The game is fun to play, but has a serious pro...</td>\n",
       "      <td>2</td>\n",
       "      <td>38</td>\n",
       "      <td>4.70.0</td>\n",
       "      <td>2021-10-05 08:28:40</td>\n",
       "      <td>None</td>\n",
       "      <td>NaT</td>\n",
       "    </tr>\n",
       "    <tr>\n",
       "      <th>2</th>\n",
       "      <td>gp:AOqpTOFXZox7A1T25DlGsPyf_Kg3sWzyJqBmmCKjRJ4...</td>\n",
       "      <td>Isaac Williams</td>\n",
       "      <td>https://play-lh.googleusercontent.com/a/AATXAJ...</td>\n",
       "      <td>The game itself is pretty okay but with some r...</td>\n",
       "      <td>2</td>\n",
       "      <td>44</td>\n",
       "      <td>4.70.0</td>\n",
       "      <td>2021-10-06 00:03:06</td>\n",
       "      <td>None</td>\n",
       "      <td>NaT</td>\n",
       "    </tr>\n",
       "    <tr>\n",
       "      <th>3</th>\n",
       "      <td>gp:AOqpTOH5qtDqKwJ846lBqx8A2muB4iwsa8706MqDfUp...</td>\n",
       "      <td>Leonard Vaughn</td>\n",
       "      <td>https://play-lh.googleusercontent.com/a/AATXAJ...</td>\n",
       "      <td>Great game and is the only phone app game ive ...</td>\n",
       "      <td>5</td>\n",
       "      <td>6</td>\n",
       "      <td>4.70.0</td>\n",
       "      <td>2021-10-05 08:11:39</td>\n",
       "      <td>None</td>\n",
       "      <td>NaT</td>\n",
       "    </tr>\n",
       "    <tr>\n",
       "      <th>4</th>\n",
       "      <td>gp:AOqpTOFTYdB4aVpsQYRgPVJefqOo5QD6uZPjnAVzlxv...</td>\n",
       "      <td>Travis M.</td>\n",
       "      <td>https://play-lh.googleusercontent.com/a/AATXAJ...</td>\n",
       "      <td>The game is fine. Don't ever spend a dime, the...</td>\n",
       "      <td>2</td>\n",
       "      <td>35</td>\n",
       "      <td>4.70.0</td>\n",
       "      <td>2021-10-05 15:26:11</td>\n",
       "      <td>Hello, Travis! We decided to include guarantee...</td>\n",
       "      <td>2021-07-30 09:13:44</td>\n",
       "    </tr>\n",
       "  </tbody>\n",
       "</table>\n",
       "</div>"
      ],
      "text/plain": [
       "                                            reviewId        userName  \\\n",
       "0  gp:AOqpTOHMBHFdZtnKG_9bSXjvRUXkqf0c0Cq1di0bIwa...  Caitlyn Arnold   \n",
       "1  gp:AOqpTOFDG3mv7_ylqYDQfp29i6qVblWkFMf01lwWFaI...             A S   \n",
       "2  gp:AOqpTOFXZox7A1T25DlGsPyf_Kg3sWzyJqBmmCKjRJ4...  Isaac Williams   \n",
       "3  gp:AOqpTOH5qtDqKwJ846lBqx8A2muB4iwsa8706MqDfUp...  Leonard Vaughn   \n",
       "4  gp:AOqpTOFTYdB4aVpsQYRgPVJefqOo5QD6uZPjnAVzlxv...       Travis M.   \n",
       "\n",
       "                                           userImage  \\\n",
       "0  https://play-lh.googleusercontent.com/a/AATXAJ...   \n",
       "1  https://play-lh.googleusercontent.com/a/AATXAJ...   \n",
       "2  https://play-lh.googleusercontent.com/a/AATXAJ...   \n",
       "3  https://play-lh.googleusercontent.com/a/AATXAJ...   \n",
       "4  https://play-lh.googleusercontent.com/a/AATXAJ...   \n",
       "\n",
       "                                             content  score  thumbsUpCount  \\\n",
       "0  The game is good and the graphics are great. B...      1             42   \n",
       "1  The game is fun to play, but has a serious pro...      2             38   \n",
       "2  The game itself is pretty okay but with some r...      2             44   \n",
       "3  Great game and is the only phone app game ive ...      5              6   \n",
       "4  The game is fine. Don't ever spend a dime, the...      2             35   \n",
       "\n",
       "  reviewCreatedVersion                  at  \\\n",
       "0               4.70.0 2021-10-05 10:17:06   \n",
       "1               4.70.0 2021-10-05 08:28:40   \n",
       "2               4.70.0 2021-10-06 00:03:06   \n",
       "3               4.70.0 2021-10-05 08:11:39   \n",
       "4               4.70.0 2021-10-05 15:26:11   \n",
       "\n",
       "                                        replyContent           repliedAt  \n",
       "0                                               None                 NaT  \n",
       "1                                               None                 NaT  \n",
       "2                                               None                 NaT  \n",
       "3                                               None                 NaT  \n",
       "4  Hello, Travis! We decided to include guarantee... 2021-07-30 09:13:44  "
      ]
     },
     "execution_count": 92,
     "metadata": {},
     "output_type": "execute_result"
    }
   ],
   "source": [
    "df.head()"
   ]
  },
  {
   "cell_type": "code",
   "execution_count": 10,
   "id": "b32c6ad4",
   "metadata": {},
   "outputs": [
    {
     "name": "stderr",
     "output_type": "stream",
     "text": [
      "C:\\Users\\Zach\\Anaconda3\\lib\\site-packages\\ipykernel_launcher.py:1: FutureWarning: The default value of regex will change from True to False in a future version.\n",
      "  \"\"\"Entry point for launching an IPython kernel.\n"
     ]
    }
   ],
   "source": [
    "df['content'] = df['content'].str.replace('[^a-zA-Z ]', ' ').str.lower()"
   ]
  },
  {
   "cell_type": "code",
   "execution_count": 11,
   "id": "1a310eb3",
   "metadata": {
    "scrolled": true
   },
   "outputs": [
    {
     "data": {
      "text/plain": [
       "(10000, 10)"
      ]
     },
     "execution_count": 11,
     "metadata": {},
     "output_type": "execute_result"
    }
   ],
   "source": [
    "df.shape"
   ]
  },
  {
   "cell_type": "code",
   "execution_count": 12,
   "id": "b60ee642",
   "metadata": {},
   "outputs": [
    {
     "data": {
      "text/plain": [
       "reviewId                   0\n",
       "userName                   0\n",
       "userImage                  0\n",
       "content                    0\n",
       "score                      0\n",
       "thumbsUpCount              0\n",
       "reviewCreatedVersion     878\n",
       "at                         0\n",
       "replyContent            2312\n",
       "repliedAt               2312\n",
       "dtype: int64"
      ]
     },
     "execution_count": 12,
     "metadata": {},
     "output_type": "execute_result"
    }
   ],
   "source": [
    "df.isna().sum()"
   ]
  },
  {
   "cell_type": "code",
   "execution_count": 13,
   "id": "32cb9b4c",
   "metadata": {
    "scrolled": true
   },
   "outputs": [],
   "source": [
    "df.dropna(subset=['content'], inplace=True)"
   ]
  },
  {
   "cell_type": "code",
   "execution_count": 14,
   "id": "e53de3a6",
   "metadata": {},
   "outputs": [
    {
     "data": {
      "text/plain": [
       "reviewId                   0\n",
       "userName                   0\n",
       "userImage                  0\n",
       "content                    0\n",
       "score                      0\n",
       "thumbsUpCount              0\n",
       "reviewCreatedVersion     878\n",
       "at                         0\n",
       "replyContent            2312\n",
       "repliedAt               2312\n",
       "dtype: int64"
      ]
     },
     "execution_count": 14,
     "metadata": {},
     "output_type": "execute_result"
    }
   ],
   "source": [
    "df.isna().sum()"
   ]
  },
  {
   "cell_type": "code",
   "execution_count": 15,
   "id": "cd3b327e",
   "metadata": {},
   "outputs": [],
   "source": [
    "from sklearn.feature_extraction.text import CountVectorizer"
   ]
  },
  {
   "cell_type": "code",
   "execution_count": 16,
   "id": "19558ac0",
   "metadata": {},
   "outputs": [],
   "source": [
    "cv = CountVectorizer(min_df=0.2, max_df=0.8)\n",
    "#cv = CountVectorizer()"
   ]
  },
  {
   "cell_type": "code",
   "execution_count": 17,
   "id": "aa824467",
   "metadata": {},
   "outputs": [],
   "source": [
    "cv_transformed = cv.fit_transform(df['content'])\n",
    "cv_array = cv_transformed.toarray()"
   ]
  },
  {
   "cell_type": "code",
   "execution_count": 18,
   "id": "16fca509",
   "metadata": {},
   "outputs": [
    {
     "data": {
      "text/plain": [
       "(10000, 24)"
      ]
     },
     "execution_count": 18,
     "metadata": {},
     "output_type": "execute_result"
    }
   ],
   "source": [
    "cv_array.shape"
   ]
  },
  {
   "cell_type": "code",
   "execution_count": 19,
   "id": "c463d7ac",
   "metadata": {},
   "outputs": [
    {
     "data": {
      "text/plain": [
       "<AxesSubplot:>"
      ]
     },
     "execution_count": 19,
     "metadata": {},
     "output_type": "execute_result"
    },
    {
     "data": {
      "image/png": "[encoded data removed]",
      "text/plain": [
       "<Figure size 432x288 with 1 Axes>"
      ]
     },
     "metadata": {
      "needs_background": "light"
     },
     "output_type": "display_data"
    }
   ],
   "source": [
    "df['score'].hist()"
   ]
  },
  {
   "cell_type": "code",
   "execution_count": 102,
   "id": "c83bf6c0",
   "metadata": {},
   "outputs": [
    {
     "data": {
      "text/plain": [
       "3.0084"
      ]
     },
     "execution_count": 102,
     "metadata": {},
     "output_type": "execute_result"
    }
   ],
   "source": [
    "df['score'].mean()"
   ]
  },
  {
   "cell_type": "code",
   "execution_count": 103,
   "id": "a526aa26",
   "metadata": {
    "scrolled": true
   },
   "outputs": [],
   "source": [
    "#cv.get_feature_names()"
   ]
  },
  {
   "cell_type": "code",
   "execution_count": 104,
   "id": "a6e59ee1",
   "metadata": {},
   "outputs": [],
   "source": [
    "from sklearn.feature_extraction.text import TfidfVectorizer"
   ]
  },
  {
   "cell_type": "code",
   "execution_count": 105,
   "id": "ac794120",
   "metadata": {},
   "outputs": [],
   "source": [
    "# Instantiate TfidfVectorizer\n",
    "tv = TfidfVectorizer(max_features=100, stop_words='english')\n",
    "\n",
    "# Fit the vectroizer and transform the data\n",
    "tv_transformed = tv.fit_transform(df['content'])\n",
    "\n",
    "# Create a DataFrame with these features\n",
    "tv_df = pd.DataFrame(tv_transformed.toarray(), \n",
    "                     columns=tv.get_feature_names()).add_prefix('TFIDF_')"
   ]
  },
  {
   "cell_type": "code",
   "execution_count": 106,
   "id": "bc28ea35",
   "metadata": {},
   "outputs": [
    {
     "data": {
      "text/html": [
       "<div>\n",
       "<style scoped>\n",
       "    .dataframe tbody tr th:only-of-type {\n",
       "        vertical-align: middle;\n",
       "    }\n",
       "\n",
       "    .dataframe tbody tr th {\n",
       "        vertical-align: top;\n",
       "    }\n",
       "\n",
       "    .dataframe thead th {\n",
       "        text-align: right;\n",
       "    }\n",
       "</style>\n",
       "<table border=\"1\" class=\"dataframe\">\n",
       "  <thead>\n",
       "    <tr style=\"text-align: right;\">\n",
       "      <th></th>\n",
       "      <th>TFIDF_account</th>\n",
       "      <th>TFIDF_ads</th>\n",
       "      <th>TFIDF_amazing</th>\n",
       "      <th>TFIDF_arena</th>\n",
       "      <th>TFIDF_awesome</th>\n",
       "      <th>TFIDF_bad</th>\n",
       "      <th>TFIDF_best</th>\n",
       "      <th>TFIDF_better</th>\n",
       "      <th>TFIDF_buy</th>\n",
       "      <th>TFIDF_champion</th>\n",
       "      <th>...</th>\n",
       "      <th>TFIDF_unless</th>\n",
       "      <th>TFIDF_update</th>\n",
       "      <th>TFIDF_upgrade</th>\n",
       "      <th>TFIDF_ups</th>\n",
       "      <th>TFIDF_ve</th>\n",
       "      <th>TFIDF_want</th>\n",
       "      <th>TFIDF_way</th>\n",
       "      <th>TFIDF_win</th>\n",
       "      <th>TFIDF_work</th>\n",
       "      <th>TFIDF_worth</th>\n",
       "    </tr>\n",
       "  </thead>\n",
       "  <tbody>\n",
       "    <tr>\n",
       "      <th>0</th>\n",
       "      <td>0.0</td>\n",
       "      <td>0.0</td>\n",
       "      <td>0.0</td>\n",
       "      <td>0.000000</td>\n",
       "      <td>0.000000</td>\n",
       "      <td>0.0</td>\n",
       "      <td>0.0</td>\n",
       "      <td>0.0</td>\n",
       "      <td>0.0</td>\n",
       "      <td>0.000000</td>\n",
       "      <td>...</td>\n",
       "      <td>0.284611</td>\n",
       "      <td>0.000000</td>\n",
       "      <td>0.298754</td>\n",
       "      <td>0.0</td>\n",
       "      <td>0.0</td>\n",
       "      <td>0.0</td>\n",
       "      <td>0.0</td>\n",
       "      <td>0.0</td>\n",
       "      <td>0.0</td>\n",
       "      <td>0.000000</td>\n",
       "    </tr>\n",
       "    <tr>\n",
       "      <th>1</th>\n",
       "      <td>0.0</td>\n",
       "      <td>0.0</td>\n",
       "      <td>0.0</td>\n",
       "      <td>0.000000</td>\n",
       "      <td>0.000000</td>\n",
       "      <td>0.0</td>\n",
       "      <td>0.0</td>\n",
       "      <td>0.0</td>\n",
       "      <td>0.0</td>\n",
       "      <td>0.606686</td>\n",
       "      <td>...</td>\n",
       "      <td>0.000000</td>\n",
       "      <td>0.189418</td>\n",
       "      <td>0.000000</td>\n",
       "      <td>0.0</td>\n",
       "      <td>0.0</td>\n",
       "      <td>0.0</td>\n",
       "      <td>0.0</td>\n",
       "      <td>0.0</td>\n",
       "      <td>0.0</td>\n",
       "      <td>0.000000</td>\n",
       "    </tr>\n",
       "    <tr>\n",
       "      <th>2</th>\n",
       "      <td>0.0</td>\n",
       "      <td>0.0</td>\n",
       "      <td>0.0</td>\n",
       "      <td>0.000000</td>\n",
       "      <td>0.000000</td>\n",
       "      <td>0.0</td>\n",
       "      <td>0.0</td>\n",
       "      <td>0.0</td>\n",
       "      <td>0.0</td>\n",
       "      <td>0.513260</td>\n",
       "      <td>...</td>\n",
       "      <td>0.000000</td>\n",
       "      <td>0.000000</td>\n",
       "      <td>0.000000</td>\n",
       "      <td>0.0</td>\n",
       "      <td>0.0</td>\n",
       "      <td>0.0</td>\n",
       "      <td>0.0</td>\n",
       "      <td>0.0</td>\n",
       "      <td>0.0</td>\n",
       "      <td>0.269019</td>\n",
       "    </tr>\n",
       "    <tr>\n",
       "      <th>3</th>\n",
       "      <td>0.0</td>\n",
       "      <td>0.0</td>\n",
       "      <td>0.0</td>\n",
       "      <td>0.295953</td>\n",
       "      <td>0.000000</td>\n",
       "      <td>0.0</td>\n",
       "      <td>0.0</td>\n",
       "      <td>0.0</td>\n",
       "      <td>0.0</td>\n",
       "      <td>0.000000</td>\n",
       "      <td>...</td>\n",
       "      <td>0.000000</td>\n",
       "      <td>0.000000</td>\n",
       "      <td>0.000000</td>\n",
       "      <td>0.0</td>\n",
       "      <td>0.0</td>\n",
       "      <td>0.0</td>\n",
       "      <td>0.0</td>\n",
       "      <td>0.0</td>\n",
       "      <td>0.0</td>\n",
       "      <td>0.000000</td>\n",
       "    </tr>\n",
       "    <tr>\n",
       "      <th>4</th>\n",
       "      <td>0.0</td>\n",
       "      <td>0.0</td>\n",
       "      <td>0.0</td>\n",
       "      <td>0.000000</td>\n",
       "      <td>0.292467</td>\n",
       "      <td>0.0</td>\n",
       "      <td>0.0</td>\n",
       "      <td>0.0</td>\n",
       "      <td>0.0</td>\n",
       "      <td>0.000000</td>\n",
       "      <td>...</td>\n",
       "      <td>0.000000</td>\n",
       "      <td>0.000000</td>\n",
       "      <td>0.000000</td>\n",
       "      <td>0.0</td>\n",
       "      <td>0.0</td>\n",
       "      <td>0.0</td>\n",
       "      <td>0.0</td>\n",
       "      <td>0.0</td>\n",
       "      <td>0.0</td>\n",
       "      <td>0.000000</td>\n",
       "    </tr>\n",
       "  </tbody>\n",
       "</table>\n",
       "<p>5 rows × 100 columns</p>\n",
       "</div>"
      ],
      "text/plain": [
       "   TFIDF_account  TFIDF_ads  TFIDF_amazing  TFIDF_arena  TFIDF_awesome  \\\n",
       "0            0.0        0.0            0.0     0.000000       0.000000   \n",
       "1            0.0        0.0            0.0     0.000000       0.000000   \n",
       "2            0.0        0.0            0.0     0.000000       0.000000   \n",
       "3            0.0        0.0            0.0     0.295953       0.000000   \n",
       "4            0.0        0.0            0.0     0.000000       0.292467   \n",
       "\n",
       "   TFIDF_bad  TFIDF_best  TFIDF_better  TFIDF_buy  TFIDF_champion  ...  \\\n",
       "0        0.0         0.0           0.0        0.0        0.000000  ...   \n",
       "1        0.0         0.0           0.0        0.0        0.606686  ...   \n",
       "2        0.0         0.0           0.0        0.0        0.513260  ...   \n",
       "3        0.0         0.0           0.0        0.0        0.000000  ...   \n",
       "4        0.0         0.0           0.0        0.0        0.000000  ...   \n",
       "\n",
       "   TFIDF_unless  TFIDF_update  TFIDF_upgrade  TFIDF_ups  TFIDF_ve  TFIDF_want  \\\n",
       "0      0.284611      0.000000       0.298754        0.0       0.0         0.0   \n",
       "1      0.000000      0.189418       0.000000        0.0       0.0         0.0   \n",
       "2      0.000000      0.000000       0.000000        0.0       0.0         0.0   \n",
       "3      0.000000      0.000000       0.000000        0.0       0.0         0.0   \n",
       "4      0.000000      0.000000       0.000000        0.0       0.0         0.0   \n",
       "\n",
       "   TFIDF_way  TFIDF_win  TFIDF_work  TFIDF_worth  \n",
       "0        0.0        0.0         0.0     0.000000  \n",
       "1        0.0        0.0         0.0     0.000000  \n",
       "2        0.0        0.0         0.0     0.269019  \n",
       "3        0.0        0.0         0.0     0.000000  \n",
       "4        0.0        0.0         0.0     0.000000  \n",
       "\n",
       "[5 rows x 100 columns]"
      ]
     },
     "execution_count": 106,
     "metadata": {},
     "output_type": "execute_result"
    }
   ],
   "source": [
    "tv_df.head()"
   ]
  },
  {
   "cell_type": "code",
   "execution_count": 107,
   "id": "ec91fca7",
   "metadata": {},
   "outputs": [
    {
     "name": "stdout",
     "output_type": "stream",
     "text": [
      "Counts_pay win        786\n",
      "Counts_great game     651\n",
      "Counts_good game      596\n",
      "Counts_spend money    542\n",
      "Counts_pop ups        492\n",
      "Counts_fun game       444\n",
      "Counts_play game      405\n",
      "Counts_love game      397\n",
      "Counts_free play      376\n",
      "Counts_game play      338\n",
      "dtype: int64\n"
     ]
    }
   ],
   "source": [
    "cv_trigram_vec = CountVectorizer(max_features=100, \n",
    "                                 stop_words='english', \n",
    "                                 ngram_range=(2,5))\n",
    "\n",
    "# Fit and apply trigram vectorizer\n",
    "cv_trigram = cv_trigram_vec.fit_transform(df['content'])\n",
    "\n",
    "# Print the trigram features\n",
    "#print(cv_trigram_vec.get_feature_names())\n",
    "\n",
    "# Create a DataFrame of the features\n",
    "cv_tri_df = pd.DataFrame(cv_trigram.toarray(), \n",
    "                 columns=cv_trigram_vec.get_feature_names()).add_prefix('Counts_')\n",
    "\n",
    "# Print the top 5 words in the sorted output\n",
    "print(cv_tri_df.sum().sort_values(ascending=False).head(10))"
   ]
  },
  {
   "cell_type": "code",
   "execution_count": 108,
   "id": "f989d1d2",
   "metadata": {},
   "outputs": [
    {
     "name": "stdout",
     "output_type": "stream",
     "text": [
      "Counts_pay win        786\n",
      "Counts_great game     651\n",
      "Counts_good game      596\n",
      "Counts_spend money    542\n",
      "Counts_pop ups        492\n",
      "dtype: int64\n"
     ]
    }
   ],
   "source": [
    "# Create a DataFrame of the features\n",
    "cv_tri_df = pd.DataFrame(cv_trigram.toarray(), \n",
    "                 columns=cv_trigram_vec.get_feature_names()).add_prefix('Counts_')\n",
    "\n",
    "# Print the top 5 words in the sorted output\n",
    "print(cv_tri_df.sum().sort_values(ascending=False).head())"
   ]
  },
  {
   "cell_type": "code",
   "execution_count": 109,
   "id": "61dddc36",
   "metadata": {},
   "outputs": [
    {
     "name": "stdout",
     "output_type": "stream",
     "text": [
      "TFIDF_pay win game           110.349203\n",
      "TFIDF_raid shadow legends     74.201874\n",
      "TFIDF_game pay win            63.970319\n",
      "TFIDF_spend money game        59.582258\n",
      "TFIDF_don waste time          45.882522\n",
      "TFIDF_don spend money         41.186367\n",
      "TFIDF_game great graphics     38.755556\n",
      "TFIDF_clan vs clan            37.693668\n",
      "TFIDF_really good game        36.707532\n",
      "TFIDF_really like game        35.971686\n",
      "TFIDF_game ve played          34.844489\n",
      "TFIDF_free play players       33.175539\n",
      "TFIDF_game good graphics      32.985136\n",
      "TFIDF_really fun game         32.824202\n",
      "TFIDF_game free play          31.575756\n",
      "TFIDF_daily login rewards     30.982358\n",
      "TFIDF_game pop ups            30.222723\n",
      "TFIDF_really enjoy game       29.435369\n",
      "TFIDF_want spend money        27.762859\n",
      "TFIDF_pay play game           27.120472\n",
      "TFIDF_spend lot money         26.366527\n",
      "TFIDF_pretty good game        25.899292\n",
      "TFIDF_great game play         25.710846\n",
      "TFIDF_good game just          25.612325\n",
      "TFIDF_time open game          25.487709\n",
      "TFIDF_need spend money        23.927582\n",
      "TFIDF_don play game           23.580606\n",
      "TFIDF_fun game play           22.865220\n",
      "TFIDF_ve playing game         22.724915\n",
      "TFIDF_waste time money        22.616846\n",
      "dtype: float64\n"
     ]
    }
   ],
   "source": [
    "# Instantiate TfidfVectorizer\n",
    "tv = TfidfVectorizer(max_features=100, stop_words='english', ngram_range=(3,3))\n",
    "\n",
    "# Fit the vectroizer and transform the data\n",
    "tv_transformed = tv.fit_transform(df['content'])\n",
    "\n",
    "# Create a DataFrame with these features\n",
    "tv_df = pd.DataFrame(tv_transformed.toarray(), \n",
    "                     columns=tv.get_feature_names()).add_prefix('TFIDF_')\n",
    "# Isolate the row to be examined\n",
    "sample_row = tv_df.loc[0]\n",
    "\n",
    "# Print the top 5 words of the sorted output\n",
    "print(tv_df.sum().sort_values(ascending=False).head(30))"
   ]
  },
  {
   "cell_type": "code",
   "execution_count": 110,
   "id": "58e60218",
   "metadata": {},
   "outputs": [
    {
     "name": "stdout",
     "output_type": "stream",
     "text": [
      "TFIDF_pay win game           110.349203\n",
      "TFIDF_raid shadow legends     74.201874\n",
      "TFIDF_game pay win            63.970319\n",
      "TFIDF_spend money game        59.582258\n",
      "TFIDF_don waste time          45.882522\n",
      "TFIDF_don spend money         41.043328\n",
      "TFIDF_game great graphics     38.755556\n",
      "TFIDF_clan vs clan            37.693668\n",
      "TFIDF_really good game        36.707532\n",
      "TFIDF_really like game        35.971686\n",
      "TFIDF_game ve played          34.844489\n",
      "TFIDF_free play players       33.038922\n",
      "TFIDF_game good graphics      32.985136\n",
      "TFIDF_really fun game         32.824202\n",
      "TFIDF_game free play          31.920646\n",
      "TFIDF_daily login rewards     30.274113\n",
      "TFIDF_game pop ups            30.222723\n",
      "TFIDF_really enjoy game       29.435369\n",
      "TFIDF_want spend money        27.762859\n",
      "TFIDF_pay play game           27.120472\n",
      "TFIDF_spend lot money         26.277946\n",
      "TFIDF_pretty good game        25.899292\n",
      "TFIDF_great game play         25.851272\n",
      "TFIDF_good game just          25.612325\n",
      "TFIDF_time open game          25.166657\n",
      "TFIDF_need spend money        23.927582\n",
      "TFIDF_don play game           23.580606\n",
      "TFIDF_fun game play           22.865220\n",
      "TFIDF_ve playing game         22.724915\n",
      "TFIDF_waste time money        22.616846\n",
      "dtype: float64\n"
     ]
    }
   ],
   "source": [
    "# Instantiate TfidfVectorizer\n",
    "tv = TfidfVectorizer(max_features=100, stop_words='english', ngram_range=(3,3),\n",
    "                    max_df=0.5, min_df=0.001)\n",
    "\n",
    "# Fit the vectroizer and transform the data\n",
    "tv_transformed = tv.fit_transform(df['content'])\n",
    "\n",
    "# Create a DataFrame with these features\n",
    "tv_df = pd.DataFrame(tv_transformed.toarray(), \n",
    "                     columns=tv.get_feature_names()).add_prefix('TFIDF_')\n",
    "# Isolate the row to be examined\n",
    "sample_row = tv_df.loc[0]\n",
    "\n",
    "# Print the top 5 words of the sorted output\n",
    "print(tv_df.sum().sort_values(ascending=False).head(30))"
   ]
  },
  {
   "cell_type": "code",
   "execution_count": 111,
   "id": "757353ec",
   "metadata": {},
   "outputs": [],
   "source": [
    "df_bad = df[(df['score'] == 1) | (df['score'] == 2)]\n",
    "df_good = df[(df['score'] == 4) | (df['score'] == 5)]"
   ]
  },
  {
   "cell_type": "code",
   "execution_count": 112,
   "id": "b207a01f",
   "metadata": {},
   "outputs": [
    {
     "name": "stdout",
     "output_type": "stream",
     "text": [
      "Counts_pay win game           98\n",
      "Counts_don waste time         51\n",
      "Counts_game pay win           51\n",
      "Counts_spend money game       49\n",
      "Counts_daily login rewards    31\n",
      "Counts_raid shadow legends    29\n",
      "Counts_waste time money       29\n",
      "Counts_clan vs clan           27\n",
      "Counts_don play game          26\n",
      "Counts_free play players      25\n",
      "dtype: int64\n"
     ]
    }
   ],
   "source": [
    "cv_trigram_vec = CountVectorizer(max_features=100, \n",
    "                                 stop_words='english', \n",
    "                                 ngram_range=(3,5))\n",
    "\n",
    "# Fit and apply trigram vectorizer\n",
    "cv_trigram = cv_trigram_vec.fit_transform(df_bad['content'])\n",
    "\n",
    "# Print the trigram features\n",
    "#print(cv_trigram_vec.get_feature_names())\n",
    "\n",
    "# Create a DataFrame of the features\n",
    "cv_tri_df = pd.DataFrame(cv_trigram.toarray(), \n",
    "                 columns=cv_trigram_vec.get_feature_names()).add_prefix('Counts_')\n",
    "\n",
    "# Print the top 5 words in the sorted output\n",
    "print(cv_tri_df.sum().sort_values(ascending=False).head(10))"
   ]
  },
  {
   "cell_type": "code",
   "execution_count": 122,
   "id": "c0b66909",
   "metadata": {},
   "outputs": [
    {
     "name": "stdout",
     "output_type": "stream",
     "text": [
      "TFIDF_pay win game            82.424591\n",
      "TFIDF_game pay win            42.265929\n",
      "TFIDF_don waste time          40.368530\n",
      "TFIDF_spend money game        38.541728\n",
      "TFIDF_raid shadow legends     24.780611\n",
      "TFIDF_daily login rewards     23.994650\n",
      "TFIDF_clan vs clan            22.767154\n",
      "TFIDF_waste time money        20.960273\n",
      "TFIDF_free play players       20.842446\n",
      "TFIDF_don play game           20.471099\n",
      "TFIDF_spending money game     17.621416\n",
      "TFIDF_don spend money         17.471516\n",
      "TFIDF_stay away game          17.043520\n",
      "TFIDF_chicken sacred shard    17.015320\n",
      "TFIDF_want spend money        16.952648\n",
      "TFIDF_pay play game           15.969843\n",
      "TFIDF_time open game          14.832851\n",
      "TFIDF_game free play          14.810909\n",
      "TFIDF_spend lot money         14.550250\n",
      "TFIDF_tag team arena          14.406024\n",
      "TFIDF_need spend money        14.184135\n",
      "TFIDF_don waste money         13.290644\n",
      "TFIDF_ve playing game         13.256861\n",
      "TFIDF_cash grab game          13.225746\n",
      "TFIDF_free play friendly      13.008215\n",
      "TFIDF_game ve played          12.815704\n",
      "TFIDF_really like game        12.585528\n",
      "TFIDF_end game content        12.580907\n",
      "TFIDF_game great graphics     12.532268\n",
      "TFIDF_played game months      11.945539\n",
      "dtype: float64\n"
     ]
    }
   ],
   "source": [
    "# Instantiate TfidfVectorizer\n",
    "tv = TfidfVectorizer(max_features=100, stop_words='english', ngram_range=(3,3),\n",
    "                    max_df=0.5, min_df=0.001)\n",
    "\n",
    "# Fit the vectroizer and transform the data\n",
    "tv_transformed = tv.fit_transform(df_bad['content'])\n",
    "\n",
    "# Create a DataFrame with these features\n",
    "tv_df = pd.DataFrame(tv_transformed.toarray(), \n",
    "                     columns=tv.get_feature_names()).add_prefix('TFIDF_')\n",
    "# Isolate the row to be examined\n",
    "sample_row = tv_df.loc[0]\n",
    "\n",
    "# Print the top 5 words of the sorted output\n",
    "print(tv_df.sum().sort_values(ascending=False).head(30))"
   ]
  },
  {
   "cell_type": "code",
   "execution_count": 114,
   "id": "228d9cfa",
   "metadata": {},
   "outputs": [
    {
     "name": "stdout",
     "output_type": "stream",
     "text": [
      "Counts_raid shadow legends    50\n",
      "Counts_really good game       31\n",
      "Counts_game great graphics    30\n",
      "Counts_really fun game        25\n",
      "Counts_game ve played         23\n",
      "Counts_great game love        22\n",
      "Counts_great game play        21\n",
      "Counts_game good graphics     21\n",
      "Counts_pretty good game       21\n",
      "Counts_pay win game           20\n",
      "dtype: int64\n"
     ]
    }
   ],
   "source": [
    "cv_trigram_vec = CountVectorizer(max_features=100, \n",
    "                                 stop_words='english', \n",
    "                                 ngram_range=(3,5))\n",
    "\n",
    "# Fit and apply trigram vectorizer\n",
    "cv_trigram = cv_trigram_vec.fit_transform(df_good['content'])\n",
    "\n",
    "# Print the trigram features\n",
    "#print(cv_trigram_vec.get_feature_names())\n",
    "\n",
    "# Create a DataFrame of the features\n",
    "cv_tri_df = pd.DataFrame(cv_trigram.toarray(), \n",
    "                 columns=cv_trigram_vec.get_feature_names()).add_prefix('Counts_')\n",
    "\n",
    "# Print the top 5 words in the sorted output\n",
    "print(cv_tri_df.sum().sort_values(ascending=False).head(10))"
   ]
  },
  {
   "cell_type": "code",
   "execution_count": 115,
   "id": "7b188e15",
   "metadata": {},
   "outputs": [
    {
     "name": "stdout",
     "output_type": "stream",
     "text": [
      "TFIDF_great game        343.659301\n",
      "TFIDF_good game         255.064777\n",
      "TFIDF_love game         232.550945\n",
      "TFIDF_fun game          208.212652\n",
      "TFIDF_pay win           140.869872\n",
      "TFIDF_game play         125.005054\n",
      "TFIDF_game fun          104.442140\n",
      "TFIDF_free play         100.781614\n",
      "TFIDF_game great        100.055507\n",
      "TFIDF_pop ups            92.794476\n",
      "TFIDF_spend money        88.884048\n",
      "TFIDF_game just          86.182912\n",
      "TFIDF_game good          83.963644\n",
      "TFIDF_really fun         82.403966\n",
      "TFIDF_like game          81.820355\n",
      "TFIDF_awesome game       81.124231\n",
      "TFIDF_playing game       74.706238\n",
      "TFIDF_great graphics     72.988257\n",
      "TFIDF_play game          72.826983\n",
      "TFIDF_best game          68.448525\n",
      "TFIDF_amazing game       65.813456\n",
      "TFIDF_enjoy game         63.693593\n",
      "TFIDF_really good        61.254655\n",
      "TFIDF_mobile game        59.838014\n",
      "TFIDF_game really        57.554452\n",
      "TFIDF_pretty good        57.237698\n",
      "TFIDF_fun play           56.801875\n",
      "TFIDF_game love          53.885668\n",
      "TFIDF_good graphics      53.875038\n",
      "TFIDF_game like          52.423731\n",
      "dtype: float64\n"
     ]
    }
   ],
   "source": [
    "# Instantiate TfidfVectorizer\n",
    "tv = TfidfVectorizer(max_features=100, stop_words='english', ngram_range=(2,3),\n",
    "                    max_df=0.9, min_df=0.01)\n",
    "\n",
    "# Fit the vectroizer and transform the data\n",
    "tv_transformed = tv.fit_transform(df_good['content'])\n",
    "\n",
    "# Create a DataFrame with these features\n",
    "tv_df = pd.DataFrame(tv_transformed.toarray(), \n",
    "                     columns=tv.get_feature_names()).add_prefix('TFIDF_')\n",
    "# Isolate the row to be examined\n",
    "sample_row = tv_df.loc[0]\n",
    "\n",
    "# Print the top 5 words of the sorted output\n",
    "print(tv_df.sum().sort_values(ascending=False).head(30))"
   ]
  },
  {
   "cell_type": "code",
   "execution_count": 127,
   "id": "22a0b74b",
   "metadata": {},
   "outputs": [
    {
     "name": "stdout",
     "output_type": "stream",
     "text": [
      "TFIDF_spend money       171.832917\n",
      "TFIDF_pop ups           160.095597\n",
      "TFIDF_play game         145.807393\n",
      "TFIDF_free play         117.735698\n",
      "TFIDF_playing game      103.256919\n",
      "TFIDF_game just          95.471474\n",
      "TFIDF_good game          93.886588\n",
      "TFIDF_money game         92.826578\n",
      "TFIDF_pay play           86.509012\n",
      "TFIDF_game fun           85.160061\n",
      "TFIDF_waste time         84.334244\n",
      "TFIDF_great game         76.794988\n",
      "TFIDF_game play          76.463788\n",
      "TFIDF_spending money     76.430728\n",
      "TFIDF_player base        71.373562\n",
      "TFIDF_fun game           68.100380\n",
      "TFIDF_new content        66.294061\n",
      "TFIDF_win game           62.874160\n",
      "TFIDF_cash grab          62.110634\n",
      "TFIDF_game good          61.670233\n",
      "TFIDF_like game          59.371647\n",
      "TFIDF_time money         56.706265\n",
      "TFIDF_pay win game       54.507275\n",
      "TFIDF_login rewards      52.397841\n",
      "TFIDF_new players        51.439820\n",
      "TFIDF_played game        50.813909\n",
      "TFIDF_game game          49.933424\n",
      "TFIDF_real money         48.808296\n",
      "TFIDF_sacred shard       46.764155\n",
      "TFIDF_drop rates         46.114543\n",
      "dtype: float64\n"
     ]
    }
   ],
   "source": [
    "# Instantiate TfidfVectorizer\n",
    "tv = TfidfVectorizer(max_features=100, stop_words='english', ngram_range=(2,3),\n",
    "                    max_df=0.1, min_df=0.01)\n",
    "\n",
    "# Fit the vectroizer and transform the data\n",
    "tv_transformed = tv.fit_transform(df_bad['content'])\n",
    "\n",
    "# Create a DataFrame with these features\n",
    "tv_df = pd.DataFrame(tv_transformed.toarray(), \n",
    "                     columns=tv.get_feature_names()).add_prefix('TFIDF_')\n",
    "# Isolate the row to be examined\n",
    "sample_row = tv_df.loc[0]\n",
    "\n",
    "# Print the top 5 words of the sorted output\n",
    "print(tv_df.sum().sort_values(ascending=False).head(30))"
   ]
  },
  {
   "cell_type": "code",
   "execution_count": 128,
   "id": "026b9486",
   "metadata": {},
   "outputs": [
    {
     "name": "stdout",
     "output_type": "stream",
     "text": [
      "TFIDF_great game        343.659301\n",
      "TFIDF_good game         255.064777\n",
      "TFIDF_love game         232.550945\n",
      "TFIDF_fun game          208.212652\n",
      "TFIDF_pay win           140.869872\n",
      "TFIDF_game play         125.005054\n",
      "TFIDF_game fun          104.442140\n",
      "TFIDF_free play         100.781614\n",
      "TFIDF_game great        100.055507\n",
      "TFIDF_pop ups            92.794476\n",
      "TFIDF_spend money        88.884048\n",
      "TFIDF_game just          86.182912\n",
      "TFIDF_game good          83.963644\n",
      "TFIDF_really fun         82.403966\n",
      "TFIDF_like game          81.820355\n",
      "TFIDF_awesome game       81.124231\n",
      "TFIDF_playing game       74.706238\n",
      "TFIDF_great graphics     72.988257\n",
      "TFIDF_play game          72.826983\n",
      "TFIDF_best game          68.448525\n",
      "TFIDF_amazing game       65.813456\n",
      "TFIDF_enjoy game         63.693593\n",
      "TFIDF_really good        61.254655\n",
      "TFIDF_mobile game        59.838014\n",
      "TFIDF_game really        57.554452\n",
      "TFIDF_pretty good        57.237698\n",
      "TFIDF_fun play           56.801875\n",
      "TFIDF_game love          53.885668\n",
      "TFIDF_good graphics      53.875038\n",
      "TFIDF_game like          52.423731\n",
      "dtype: float64\n"
     ]
    }
   ],
   "source": [
    "# Instantiate TfidfVectorizer\n",
    "tv = TfidfVectorizer(max_features=100, stop_words='english', ngram_range=(2,3),\n",
    "                    max_df=0.1, min_df=0.01)\n",
    "\n",
    "# Fit the vectroizer and transform the data\n",
    "tv_transformed = tv.fit_transform(df_good['content'])\n",
    "\n",
    "# Create a DataFrame with these features\n",
    "tv_df = pd.DataFrame(tv_transformed.toarray(), \n",
    "                     columns=tv.get_feature_names()).add_prefix('TFIDF_')\n",
    "# Isolate the row to be examined\n",
    "sample_row = tv_df.loc[0]\n",
    "\n",
    "# Print the top 5 words of the sorted output\n",
    "print(tv_df.sum().sort_values(ascending=False).head(30))"
   ]
  },
  {
   "cell_type": "code",
   "execution_count": 120,
   "id": "1787310b",
   "metadata": {},
   "outputs": [
    {
     "data": {
      "text/plain": [
       "0       the game is good and the graphics are great  b...\n",
       "1       the game is fun to play  but has a serious pro...\n",
       "2       the game itself is pretty okay but with some r...\n",
       "3       great game and is the only phone app game ive ...\n",
       "4       the game is fine  don t ever spend a dime  the...\n",
       "                              ...                        \n",
       "9995    this is actually a really good game  creatures...\n",
       "9996    i enjoy playing the game  but once something g...\n",
       "9997    meh  the graphics are good and all  but the ga...\n",
       "9998    i have a strong isp and wifi connection  but l...\n",
       "9999    now that i ve had more experience i can say th...\n",
       "Name: content, Length: 10000, dtype: object"
      ]
     },
     "execution_count": 120,
     "metadata": {},
     "output_type": "execute_result"
    }
   ],
   "source": [
    "df['content'].str.replace('p2w', 'pay to win')"
   ]
  },
  {
   "cell_type": "code",
   "execution_count": 119,
   "id": "e65e2848",
   "metadata": {},
   "outputs": [
    {
     "data": {
      "text/plain": [
       "(10000, 10)"
      ]
     },
     "execution_count": 119,
     "metadata": {},
     "output_type": "execute_result"
    }
   ],
   "source": [
    "df.shape"
   ]
  },
  {
   "cell_type": "code",
   "execution_count": null,
   "id": "c5dfd370",
   "metadata": {},
   "outputs": [],
   "source": []
  }
 ],
 "metadata": {
  "kernelspec": {
   "display_name": "Python 3 (ipykernel)",
   "language": "python",
   "name": "python3"
  },
  "language_info": {
   "codemirror_mode": {
    "name": "ipython",
    "version": 3
   },
   "file_extension": ".py",
   "mimetype": "text/x-python",
   "name": "python",
   "nbconvert_exporter": "python",
   "pygments_lexer": "ipython3",
   "version": "3.7.0"
  }
 },
 "nbformat": 4,
 "nbformat_minor": 5
}
